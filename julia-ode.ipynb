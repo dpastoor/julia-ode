{
 "cells": [
  {
   "cell_type": "code",
   "execution_count": 1,
   "metadata": {
    "collapsed": false
   },
   "outputs": [
    {
     "data": {
      "text/plain": [
       "regimen (generic function with 2 methods)"
      ]
     },
     "execution_count": 1,
     "metadata": {},
     "output_type": "execute_result"
    }
   ],
   "source": [
    "using Sundials\n",
    "using DataFrames\n",
    "include(\"regimen.jl\")"
   ]
  },
  {
   "cell_type": "code",
   "execution_count": 2,
   "metadata": {
    "collapsed": false
   },
   "outputs": [
    {
     "data": {
      "text/plain": [
       "sim_ind (generic function with 1 method)"
      ]
     },
     "execution_count": 2,
     "metadata": {},
     "output_type": "execute_result"
    }
   ],
   "source": [
    "function onecmptiv(t, a, adot, p)\n",
    "\t# p1 = KEL\t\n",
    "        adot[1] = -p[1]*a[1]\n",
    "end\n",
    "\n",
    "function sim_ind(f, regimen, sample_times)\n",
    "\tsample_times = copy(sample_times)\n",
    "    conc = Array(Float64,0)\n",
    "    time = Array(Float64,0)\n",
    "\tfor (j,amt) in enumerate(regimen[2])\n",
    "\t\tdtime = (j == length(regimen[2]) ? sample_times[end] : regimen[1][j+1])\n",
    "\t\ttime_slice = Float64[] # must define outside for loop or time_slice only defined inside will not be available ever in global scope\n",
    "\t\tfor i in  1:length(sample_times) \n",
    "\t\t\tif sample_times[i] .< dtime \n",
    "\t\t\t\tcontinue\n",
    "\t\t\telse \n",
    "\t\t\t\ttime_slice = splice!(sample_times, 1:i-1) # as loop will go 1 past the last element we want only want to splice to i-1\n",
    "\t\t\t\tpush!(time_slice, dtime)\n",
    "\t\t\t\tbreak\n",
    "\t\t\tend\n",
    "\t\tend\n",
    "\t\tif j == 1\t\n",
    "\t\ty =Sundials.cvode(f, [amt], time_slice)\n",
    "\t\telse\n",
    "\t\ty =Sundials.cvode(f, [conc[end] + amt], time_slice)\n",
    "\t\tend\n",
    "\t\tappend!(conc, y[1:end])\n",
    "\t\tappend!(time, time_slice)\n",
    "\t\t\n",
    "\tend\n",
    "    return (time, conc)\n",
    "end\n"
   ]
  },
  {
   "cell_type": "code",
   "execution_count": 3,
   "metadata": {
    "collapsed": false
   },
   "outputs": [
    {
     "data": {
      "text/plain": [
       "onecmptiv_analytical (generic function with 1 method)"
      ]
     },
     "execution_count": 3,
     "metadata": {},
     "output_type": "execute_result"
    }
   ],
   "source": [
    "# analytical solution\n",
    "function onecmptiv_analytical(ke, amt0, times)\n",
    "    t0 = times[1]\n",
    "    concs = Array(Float64,0)\n",
    "    for i in 1:length(times)\n",
    "        push!(concs, amt0*exp(-ke*(times[i]-t0)))\n",
    "    end\n",
    "    return(concs)\n",
    "end"
   ]
  },
  {
   "cell_type": "code",
   "execution_count": 4,
   "metadata": {
    "collapsed": false
   },
   "outputs": [
    {
     "data": {
      "text/plain": [
       "4-element Array{Float64,1}:\n",
       " 17.4   \n",
       " 15.7442\n",
       " 14.2459\n",
       " 12.8902"
      ]
     },
     "execution_count": 4,
     "metadata": {},
     "output_type": "execute_result"
    }
   ],
   "source": [
    "onecmptiv_analytical(0.1, 7.4 + 10., [3, 4, 5, 6])"
   ]
  },
  {
   "cell_type": "code",
   "execution_count": 5,
   "metadata": {
    "collapsed": false
   },
   "outputs": [
    {
     "data": {
      "text/plain": [
       "sim_ind_analytical (generic function with 1 method)"
      ]
     },
     "execution_count": 5,
     "metadata": {},
     "output_type": "execute_result"
    }
   ],
   "source": [
    "\n",
    "function sim_ind_analytical(cl, v, regimen, sample_times)\n",
    "    ke = cl/v\n",
    "\tsample_times = copy(sample_times)\n",
    "    conc = Array(Float64,0)\n",
    "    time = Array(Float64,0)\n",
    "\tfor (j,amt) in enumerate(regimen[2])\n",
    "\t\tdtime = (j == length(regimen[2]) ? sample_times[end] : regimen[1][j+1])\n",
    "\t\ttime_slice = Float64[] # must define outside for loop or time_slice only defined inside will not be available ever in global scope\n",
    "\t\tfor i in  1:length(sample_times) \n",
    "\t\t\tif sample_times[i] .< dtime \n",
    "\t\t\t\tcontinue\n",
    "\t\t\telse \n",
    "\t\t\t\ttime_slice = splice!(sample_times, 1:i-1) # as loop will go 1 past the last element we want only want to splice to i-1\n",
    "\t\t\t\tpush!(time_slice, dtime)\n",
    "\t\t\t\tbreak\n",
    "\t\t\tend\n",
    "\t\tend\n",
    "         if j == 1\t\n",
    "            #y =Sundials.cvode(f, [amt], time_slice)\n",
    "            y = onecmptiv_analytical(ke, amt, time_slice)\n",
    "        else\n",
    "            y =onecmptiv_analytical(ke, conc[end] + amt, time_slice)\n",
    "\t\tend\n",
    "\t\tappend!(conc, y[1:end])\n",
    "\t\tappend!(time, time_slice)\n",
    "\t\t\n",
    "\tend\n",
    "    return (time, conc)\n",
    "end\n"
   ]
  },
  {
   "cell_type": "code",
   "execution_count": 6,
   "metadata": {
    "collapsed": false
   },
   "outputs": [
    {
     "data": {
      "text/plain": [
       "7201-element Array{Float64,1}:\n",
       "  0.0 \n",
       "  0.01\n",
       "  0.02\n",
       "  0.03\n",
       "  0.04\n",
       "  0.05\n",
       "  0.06\n",
       "  0.07\n",
       "  0.08\n",
       "  0.09\n",
       "  0.1 \n",
       "  0.11\n",
       "  0.12\n",
       "  ⋮   \n",
       " 71.89\n",
       " 71.9 \n",
       " 71.91\n",
       " 71.92\n",
       " 71.93\n",
       " 71.94\n",
       " 71.95\n",
       " 71.96\n",
       " 71.97\n",
       " 71.98\n",
       " 71.99\n",
       " 72.0 "
      ]
     },
     "execution_count": 6,
     "metadata": {},
     "output_type": "execute_result"
    }
   ],
   "source": [
    "reg = regimen(100., 5., interval = 12)\n",
    "p = [0.1] # KEL\n",
    "test_onecmpt(t, a, adot) = onecmptiv(t, a, adot, p)\n",
    "sample_times = [0.:0.01:reg[1][end]+24.]\n",
    "\n"
   ]
  },
  {
   "cell_type": "code",
   "execution_count": 7,
   "metadata": {
    "collapsed": false
   },
   "outputs": [
    {
     "data": {
      "text/plain": [
       "([0.0,0.01,0.02,0.03,0.04,0.05,0.06,0.07,0.08,0.09  …  71.91,71.92,71.93,71.94,71.95,71.96,71.97,71.98,71.99,72.0],[100.0,99.9001,99.8003,99.7006,99.601,99.5015,99.4021,99.3028,99.2036,99.1045  …  13.0623,13.0493,13.0362,13.0232,13.0102,12.9972,12.9842,12.9712,12.9582,12.9453])"
      ]
     },
     "execution_count": 7,
     "metadata": {},
     "output_type": "execute_result"
    }
   ],
   "source": [
    "sim_ind(test_onecmpt, reg, sample_times)\n"
   ]
  },
  {
   "cell_type": "code",
   "execution_count": 8,
   "metadata": {
    "collapsed": false
   },
   "outputs": [
    {
     "data": {
      "text/plain": [
       "([0.0,0.01,0.02,0.03,0.04,0.05,0.06,0.07,0.08,0.09  …  71.91,71.92,71.93,71.94,71.95,71.96,71.97,71.98,71.99,72.0],[100.0,99.9,99.8002,99.7004,99.6008,99.5012,99.4018,99.3024,99.2032,99.104  …  13.0667,13.0537,13.0406,13.0276,13.0146,13.0016,12.9886,12.9756,12.9626,12.9497])"
      ]
     },
     "execution_count": 8,
     "metadata": {},
     "output_type": "execute_result"
    }
   ],
   "source": [
    "sim_ind_analytical(1, 10, reg, sample_times)"
   ]
  },
  {
   "cell_type": "code",
   "execution_count": 9,
   "metadata": {
    "collapsed": false
   },
   "outputs": [
    {
     "name": "stdout",
     "output_type": "stream",
     "text": [
      "elapsed time: 0.002705653 seconds (697848 bytes allocated)\n",
      "elapsed time: 0.001794329 seconds (684480 bytes allocated)\n"
     ]
    },
    {
     "data": {
      "text/plain": [
       "([0.0,0.01,0.02,0.03,0.04,0.05,0.06,0.07,0.08,0.09  …  71.91,71.92,71.93,71.94,71.95,71.96,71.97,71.98,71.99,72.0],[100.0,99.9001,99.8003,99.7006,99.601,99.5015,99.4021,99.3028,99.2036,99.1045  …  13.0623,13.0493,13.0362,13.0232,13.0102,12.9972,12.9842,12.9712,12.9582,12.9453])"
      ]
     },
     "execution_count": 9,
     "metadata": {},
     "output_type": "execute_result"
    }
   ],
   "source": [
    "@time sim =sim_ind(test_onecmpt, reg, sample_times)\n",
    "@time sim =sim_ind(test_onecmpt, reg, sample_times)"
   ]
  },
  {
   "cell_type": "code",
   "execution_count": 10,
   "metadata": {
    "collapsed": false
   },
   "outputs": [
    {
     "name": "stdout",
     "output_type": "stream",
     "text": [
      "elapsed time: 0.000495579 seconds (778704 bytes allocated)\n",
      "elapsed time: 0.000346755 seconds (778704 bytes allocated)\n"
     ]
    },
    {
     "data": {
      "text/plain": [
       "([0.0,0.01,0.02,0.03,0.04,0.05,0.06,0.07,0.08,0.09  …  71.91,71.92,71.93,71.94,71.95,71.96,71.97,71.98,71.99,72.0],[100.0,99.9,99.8002,99.7004,99.6008,99.5012,99.4018,99.3024,99.2032,99.104  …  13.0667,13.0537,13.0406,13.0276,13.0146,13.0016,12.9886,12.9756,12.9626,12.9497])"
      ]
     },
     "execution_count": 10,
     "metadata": {},
     "output_type": "execute_result"
    }
   ],
   "source": [
    "@time sim_ind_analytical(1, 10, reg, sample_times)\n",
    "@time sim_ind_analytical(1, 10, reg, sample_times)"
   ]
  },
  {
   "cell_type": "code",
   "execution_count": 15,
   "metadata": {
    "collapsed": false
   },
   "outputs": [
    {
     "data": {
      "text/plain": [
       "all_sims_analytical (generic function with 1 method)"
      ]
     },
     "execution_count": 15,
     "metadata": {},
     "output_type": "execute_result"
    }
   ],
   "source": [
    "df = DataFrame(TIME = sim[1], CONC = sim[2])\n",
    "\n",
    "function all_sims()\n",
    "\treg = regimen(100., 5., interval = 12)\n",
    "\tp = [0.1] # KEL\n",
    "\ttest_onecmpt(t, a, adot) = onecmptiv(t, a, adot, p)\n",
    "\tsample_times = [0.:0.16:reg[1][end]+24.]\n",
    "\tfor i in 1:100\n",
    "\t\tsim =sim_ind(test_onecmpt, reg, sample_times)\n",
    "\t\tdf = DataFrame(TIME = sim[1], CONC = sim[2])\n",
    "\t\tdf[:i] = i\n",
    "\tend\n",
    "    return(true)\n",
    "end\n",
    "\n",
    "function all_sims_analytical()\n",
    "\treg = regimen(100., 5., interval = 12)\n",
    "\tp = [0.1] # KEL\n",
    "\tsample_times = [0.:0.16:reg[1][end]+24.]\n",
    "\tfor i in 1:100\n",
    "\t\tsim = sim_ind_analytical(1, 10, reg, sample_times)\n",
    "\t\tdf = DataFrame(TIME = sim[1], CONC = sim[2])\n",
    "\t\tdf[:i] = i\n",
    "\tend\n",
    "    return(true)\n",
    "end\n",
    "\n"
   ]
  },
  {
   "cell_type": "code",
   "execution_count": null,
   "metadata": {
    "collapsed": true
   },
   "outputs": [],
   "source": []
  },
  {
   "cell_type": "code",
   "execution_count": null,
   "metadata": {
    "collapsed": false
   },
   "outputs": [],
   "source": []
  },
  {
   "cell_type": "code",
   "execution_count": 16,
   "metadata": {
    "collapsed": false
   },
   "outputs": [
    {
     "data": {
      "text/plain": [
       "true"
      ]
     },
     "execution_count": 16,
     "metadata": {},
     "output_type": "execute_result"
    }
   ],
   "source": [
    "all_sims()\n",
    "all_sims_analytical()"
   ]
  },
  {
   "cell_type": "code",
   "execution_count": 18,
   "metadata": {
    "collapsed": false
   },
   "outputs": [
    {
     "name": "stdout",
     "output_type": "stream",
     "text": [
      "ode\n",
      "elapsed time: 0.023887228 seconds (9041168 bytes allocated)\n",
      "elapsed time: 0.022337225 seconds (9041168 bytes allocated)\n",
      "analytical\n",
      "elapsed time: 0.002689686 seconds (6227768 bytes allocated)\n",
      "elapsed time: 0.002509229 seconds (6227768 bytes allocated)\n"
     ]
    },
    {
     "data": {
      "text/plain": [
       "true"
      ]
     },
     "execution_count": 18,
     "metadata": {},
     "output_type": "execute_result"
    }
   ],
   "source": [
    "println(\"ode\")\n",
    "@time all_sims()\n",
    "@time all_sims()\n",
    "println(\"analytical\")\n",
    "@time all_sims_analytical()\n",
    "@time all_sims_analytical()\n"
   ]
  },
  {
   "cell_type": "code",
   "execution_count": null,
   "metadata": {
    "collapsed": true
   },
   "outputs": [],
   "source": [
    "\n",
    "# in order to take advantage of parallelization need to launch julia via\n",
    "# julia -p 4 (or however many processors on that comp)\n",
    "#M = [regimen(100., 5, interval = 12)for i=1:100]\n",
    "#@time pmap(sim_ind, M)\n"
   ]
  }
 ],
 "metadata": {
  "kernelspec": {
   "display_name": "Julia 0.4.0-dev",
   "language": "julia",
   "name": "julia-0.4"
  },
  "language_info": {
   "name": "julia",
   "version": "0.3.9"
  }
 },
 "nbformat": 4,
 "nbformat_minor": 0
}
